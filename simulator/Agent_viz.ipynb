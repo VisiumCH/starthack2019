{
 "cells": [
  {
   "cell_type": "code",
   "execution_count": null,
   "metadata": {},
   "outputs": [],
   "source": [
    "%matplotlib inline\n",
    "import random\n",
    "import matplotlib\n",
    "\n",
    "from parcels import FieldSet, ParticleSet, JITParticle, AdvectionRK4\n",
    "import parcels\n",
    "from datetime import timedelta, datetime\n",
    "import numpy as np\n",
    "\n",
    "import matplotlib.pyplot as plt"
   ]
  },
  {
   "cell_type": "code",
   "execution_count": null,
   "metadata": {},
   "outputs": [],
   "source": [
    "INIT_SEED = 123\n",
    "MAP_W = 350\n",
    "MAP_H = 170"
   ]
  },
  {
   "cell_type": "code",
   "execution_count": null,
   "metadata": {
    "scrolled": false
   },
   "outputs": [],
   "source": [
    "from matplotlib import animation, rc\n",
    "\n",
    "from IPython.display import HTML, display\n",
    "import pickle\n",
    "\n",
    "from scipy.sparse import csr_matrix\n",
    "\n",
    "with open('../output/coord_dict_large.p', 'rb') as f:\n",
    "    data = pickle.load(f)\n",
    "    \n",
    "# mask = np.load('../output/europe_mask.npy')\n",
    "# mask = np.roll(mask, -9, axis=0)\n",
    "fig, ax = plt.subplots(1, 1, figsize=(18, 15))\n",
    "\n",
    "from scipy.misc import imread\n",
    "\n",
    "img = imread(\"bg.png\")\n",
    "\n",
    "factor=2.5\n",
    "# ax.imshow(mask[::-1,:], cmap='gray')\n",
    "# img = np.roll(img, -15, axis=0)\n",
    "# img[-15:,:]=[8,8,8,255]\n",
    "ax.imshow(img[:,:-30], extent=[0,factor*MAP_W, 0, factor*MAP_H], cmap='gray')\n",
    "def init(fig, ax):\n",
    "    mat = np.zeros((int(factor*MAP_H), int(factor*MAP_W)))\n",
    "    for k, v in data[0].items():\n",
    "        mat[int(factor*(MAP_H-int(v[1]/10))), int(factor*int(v[0]/10))] += 1\n",
    "    ax.spy(mat, markersize=2)\n",
    "\n",
    "net_tests = 185*[[[100,20],[50,60]],[[50,30],[10,60]]]\n",
    "\n",
    "def simulate(i):\n",
    "    mat = np.zeros((int(factor*MAP_H), int(factor*MAP_W)))\n",
    "    net_test=net_tests[i]\n",
    "    l = matplotlib.lines.Line2D([factor*net_test[0][0],factor*net_test[0][1]], \n",
    "                                [factor*net_test[1][1],factor*net_test[1][1]],antialiased=True, c='red')\n",
    "    plt.cla()\n",
    "    \n",
    "#     ax.imshow(img[::-1,:-7], extent=[0,factor*MAP_W, 0, factor*MAP_H])\n",
    "    ax.imshow(img[30:-10,:-7], extent=[0,factor*MAP_W, 0, factor*MAP_H])\n",
    "    \n",
    "#     for k, v in data[i].items():\n",
    "#         mat[int(factor*(MAP_H-int(v[1]/10))), int(factor*int(v[0]/10))] += 1\n",
    "#     ax.spy(mat, markersize=2.5, **{'alpha':0.7})\n",
    "    v = np.asarray(list(data[i].values()))\n",
    "#     print(v)\n",
    "    ax.scatter(factor*v[:,0]/10, factor*v[:,1]/10, alpha=0.75, s=16, antialiased=True)\n",
    "    ax.add_line(l)\n",
    "    return (ax,)\n",
    "\n",
    "ax.get_xaxis().set_visible(False)\n",
    "ax.get_yaxis().set_visible(False)\n",
    "anim = animation.FuncAnimation(fig, simulate, init_func=init(fig, ax),\n",
    "                               frames=10, interval=200, \n",
    "                               blit=False)\n",
    "\n",
    "\n",
    "HTML(anim.to_jshtml())"
   ]
  },
  {
   "cell_type": "code",
   "execution_count": null,
   "metadata": {},
   "outputs": [],
   "source": []
  },
  {
   "cell_type": "code",
   "execution_count": null,
   "metadata": {},
   "outputs": [],
   "source": [
    "%matplotlib inline\n",
    "import random\n",
    "import matplotlib\n",
    "\n",
    "from matplotlib import animation, rc\n",
    "\n",
    "matplotlib.rcParams['animation.embed_limit'] = 100\n",
    "from IPython.display import HTML, display\n",
    "import pickle\n",
    "\n",
    "from datetime import timedelta, datetime\n",
    "import numpy as np\n",
    "\n",
    "import matplotlib.pyplot as plt\n",
    "\n",
    "\n",
    "MAP_W = 350\n",
    "MAP_H = 170\n",
    "\n",
    "def plot_evolution(net_pos_file, data_points_file, fname=None):\n",
    "    with open(data_points_file, 'rb') as f:\n",
    "        data = pickle.load(f)\n",
    "    fig, ax = plt.subplots(1, 1, figsize=(18, 12))\n",
    "    \n",
    "    # Load results\n",
    "    with open(net_pos_file, 'rb') as f:\n",
    "        net_results = pickle.load(f)\n",
    "        \n",
    "    # Load background\n",
    "    img = imread(\"bg.png\")\n",
    "\n",
    "    factor=2.5\n",
    "    ax.imshow(img[:,:-30], extent=[0,factor*MAP_W, 0, factor*MAP_H], cmap='gray')\n",
    "    def init(fig, ax):\n",
    "        mat = np.zeros((int(factor*MAP_H), int(factor*MAP_W)))\n",
    "\n",
    "        v = np.asarray(list(data[0].values()))\n",
    "        ax.scatter(factor*v[:,0]/10, factor*v[:,1]/10, alpha=0.75, s=16, antialiased=True)\n",
    "\n",
    "    def simulate(i):\n",
    "        mat = np.zeros((int(factor*MAP_H), int(factor*MAP_W)))\n",
    "        net_test=net_results[i]\n",
    "        l = matplotlib.lines.Line2D([factor*net_test[0][0],factor*net_test[1][0]], \n",
    "                                    [factor*net_test[0][1],factor*net_test[1][1]],antialiased=True, c='red')\n",
    "        plt.cla()\n",
    "\n",
    "        ax.imshow(img[30:-10,:-7], extent=[0,factor*MAP_W, 0, factor*MAP_H])\n",
    "\n",
    "        v = np.asarray(list(data[i].values()))\n",
    "        \n",
    "        ax.scatter(factor*v[:,0]/10, factor*v[:,1]/10, alpha=0.7, s=16, antialiased=True)\n",
    "        ax.add_line(l)\n",
    "        return (ax,)\n",
    "    ax.get_xaxis().set_visible(False)\n",
    "    ax.get_yaxis().set_visible(False)\n",
    "\n",
    "    anim = animation.FuncAnimation(fig, simulate, init_func=init(fig, ax),\n",
    "                                   frames=10, interval=200, \n",
    "                                   blit=False)\n",
    "    \n",
    "    display(HTML(anim.to_jshtml()))\n",
    "    \n",
    "    if fname is not None:\n",
    "        anim.save(fname, writer='imagemagick', fps=60)\n"
   ]
  },
  {
   "cell_type": "code",
   "execution_count": null,
   "metadata": {},
   "outputs": [],
   "source": []
  },
  {
   "cell_type": "code",
   "execution_count": null,
   "metadata": {},
   "outputs": [],
   "source": [
    "# Watcher for new saved files\n",
    "import os\n",
    "from os import listdir\n",
    "from os.path import isfile, join\n",
    "import time\n",
    "from datetime import datetime\n",
    "\n",
    "def get_episode_number(fname):\n",
    "    return int(os.path.splitext(fname)[0].split('episode_')[1])\n",
    "\n",
    "def load_and_plot_episode(m, savename=None):\n",
    "    data_points_file = f'../ML/results_final/particles_pos_episode_{m}.pkl'\n",
    "    results_file = f'../ML/results_final/fishnet_pos_episode_{m}.pkl'\n",
    "    plot_evolution(results_file, data_points_file, fname=savename)\n",
    "\n",
    "def watch_folder(folder):\n",
    "    largest_episode = -1\n",
    "    while(1):\n",
    "        onlyfiles = [f for f in listdir(folder) if isfile(join(folder, f)) and f[:5]!='model']\n",
    "        ns = [get_episode_number(n) for n in onlyfiles]\n",
    "        m = max(ns)\n",
    "        if m > largest_episode:\n",
    "            print(f\"NEW EPISODE! (episode: {m})\")\n",
    "            largest_episode = m\n",
    "            fail = True\n",
    "            while(fail):\n",
    "                try:\n",
    "                    load_and_plot_episode(m)\n",
    "                    fail=False\n",
    "                except EOFError:\n",
    "                    pass\n",
    "        else:\n",
    "            print(f\"{datetime.now()} : No new episode found\")\n",
    "            time.sleep(30)\n"
   ]
  },
  {
   "cell_type": "code",
   "execution_count": null,
   "metadata": {
    "scrolled": false
   },
   "outputs": [],
   "source": [
    "watch_folder('../ML/results/')"
   ]
  },
  {
   "cell_type": "code",
   "execution_count": null,
   "metadata": {},
   "outputs": [],
   "source": [
    "load_and_plot_episode(0)"
   ]
  },
  {
   "cell_type": "code",
   "execution_count": null,
   "metadata": {},
   "outputs": [],
   "source": [
    "with open('../ML/results/particles_pos_episode_24.pkl', 'rb') as f:\n",
    "    dad=pickle.load(f)"
   ]
  },
  {
   "cell_type": "code",
   "execution_count": null,
   "metadata": {},
   "outputs": [],
   "source": [
    "[len(d) for d in dad]"
   ]
  },
  {
   "cell_type": "code",
   "execution_count": null,
   "metadata": {
    "scrolled": true
   },
   "outputs": [],
   "source": [
    "watch_folder('../ML/results/')"
   ]
  },
  {
   "cell_type": "code",
   "execution_count": null,
   "metadata": {},
   "outputs": [],
   "source": []
  },
  {
   "cell_type": "code",
   "execution_count": null,
   "metadata": {},
   "outputs": [],
   "source": []
  }
 ],
 "metadata": {
  "kernelspec": {
   "display_name": "Python [conda env:py3_parcels]",
   "language": "python",
   "name": "conda-env-py3_parcels-py"
  },
  "language_info": {
   "codemirror_mode": {
    "name": "ipython",
    "version": 3
   },
   "file_extension": ".py",
   "mimetype": "text/x-python",
   "name": "python",
   "nbconvert_exporter": "python",
   "pygments_lexer": "ipython3",
   "version": "3.7.1"
  }
 },
 "nbformat": 4,
 "nbformat_minor": 2
}
