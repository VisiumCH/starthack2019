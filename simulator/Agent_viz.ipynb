{
 "cells": [
  {
   "cell_type": "code",
   "execution_count": 1,
   "metadata": {},
   "outputs": [],
   "source": [
    "%matplotlib inline\n",
    "import random\n",
    "\n",
    "from parcels import FieldSet, ParticleSet, JITParticle, AdvectionRK4\n",
    "import parcels\n",
    "from datetime import timedelta, datetime\n",
    "import numpy as np\n",
    "\n",
    "import matplotlib.pyplot as plt"
   ]
  },
  {
   "cell_type": "code",
   "execution_count": 2,
   "metadata": {},
   "outputs": [],
   "source": [
    "INIT_SEED = 123\n",
    "MAP_W = 350\n",
    "MAP_H = 170"
   ]
  },
  {
   "cell_type": "code",
   "execution_count": null,
   "metadata": {},
   "outputs": [],
   "source": [
    "from matplotlib import animation, rc\n",
    "from IPython.display import HTML\n",
    "\n",
    "fig, ax = plt.subplots(1, 1, figsize=[5, 5])\n",
    "def init(fig, ax):\n",
    "    mat = np.zeros((MAP_W, MAP_H))\n",
    "    for k, v in data[0].items():\n",
    "        mat[int(v[0]/10), int(v[1]/10)] += 1\n",
    "    ax.spy(mat)\n",
    "\n",
    "def simulate(i):\n",
    "    mat = np.zeros((MAP_W, MAP_H))\n",
    "    for k, v in data[i].items():\n",
    "        mat[int(v[0]/10), int(v[1]/10)] += 1\n",
    "    ax.spy(mat)\n",
    "    return (ax,)\n",
    "\n",
    "anim = animation.FuncAnimation(fig, simulate, init_func=init(fig,ax),\n",
    "                               frames=10, interval=200, \n",
    "                               blit=False)\n",
    "\n",
    "\n",
    "HTML(anim.to_jshtml())"
   ]
  }
 ],
 "metadata": {
  "kernelspec": {
   "display_name": "Python [conda env:py3_parcels]",
   "language": "python",
   "name": "conda-env-py3_parcels-py"
  },
  "language_info": {
   "codemirror_mode": {
    "name": "ipython",
    "version": 3
   },
   "file_extension": ".py",
   "mimetype": "text/x-python",
   "name": "python",
   "nbconvert_exporter": "python",
   "pygments_lexer": "ipython3",
   "version": "3.7.1"
  }
 },
 "nbformat": 4,
 "nbformat_minor": 2
}
