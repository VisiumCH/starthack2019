{
 "cells": [
  {
   "cell_type": "code",
   "execution_count": 95,
   "metadata": {},
   "outputs": [],
   "source": [
    "import random\n",
    "import pickle\n",
    "import numpy as np\n",
    "\n",
    "import folium\n",
    "import folium.plugins as plugins\n"
   ]
  },
  {
   "cell_type": "code",
   "execution_count": 42,
   "metadata": {},
   "outputs": [],
   "source": [
    "def trans_longlat(coords):\n",
    "    long, lat = coords\n",
    "    return [lat/100+30, long/100-5]"
   ]
  },
  {
   "cell_type": "code",
   "execution_count": 102,
   "metadata": {},
   "outputs": [
    {
     "data": {
      "text/plain": [
       "12"
      ]
     },
     "execution_count": 102,
     "metadata": {},
     "output_type": "execute_result"
    }
   ],
   "source": [
    "with open('../output/coord_dict_large.p', 'rb') as f:\n",
    "    data = pickle.load(f)\n",
    "\n",
    "data = [\n",
    "    random.sample([\n",
    "        trans_longlat(coords) for coords in list(timestamp.values())\n",
    "    ], k=50) for timestamp in data\n",
    "]\n",
    "\n",
    "data = data[::30]\n",
    "\n",
    "len(data)"
   ]
  },
  {
   "cell_type": "code",
   "execution_count": 121,
   "metadata": {},
   "outputs": [],
   "source": [
    "folium_map = folium.Map(\n",
    "    location=[39, 12],\n",
    "    zoom_start=5,\n",
    "    tiles=\"CartoDB dark_matter\")\n",
    "\n",
    "from selenium import webdriver\n",
    "\n",
    "delay=5\n",
    "fn='testmap.html'\n",
    "tmpurl='file://{path}/{mapfile}'.format(path=os.getcwd(),mapfile=fn)\n",
    "m.save(fn)\n",
    "\n",
    "browser = webdriver.Firefox()\n",
    "browser.get(tmpurl)\n",
    "#Give the map tiles some time to load\n",
    "time.sleep(delay)\n",
    "browser.save_screenshot('map.png')\n",
    "browser.quit()"
   ]
  },
  {
   "cell_type": "code",
   "execution_count": null,
   "metadata": {},
   "outputs": [],
   "source": []
  }
 ],
 "metadata": {
  "kernelspec": {
   "display_name": "Python 3",
   "language": "python",
   "name": "python3"
  },
  "language_info": {
   "codemirror_mode": {
    "name": "ipython",
    "version": 3
   },
   "file_extension": ".py",
   "mimetype": "text/x-python",
   "name": "python",
   "nbconvert_exporter": "python",
   "pygments_lexer": "ipython3",
   "version": "3.6.5"
  }
 },
 "nbformat": 4,
 "nbformat_minor": 2
}
