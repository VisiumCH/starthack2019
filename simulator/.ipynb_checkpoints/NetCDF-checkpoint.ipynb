{
 "cells": [
  {
   "cell_type": "code",
   "execution_count": 2,
   "metadata": {},
   "outputs": [],
   "source": [
    "%matplotlib inline\n",
    "from parcels import FieldSet, ParticleSet, JITParticle, AdvectionRK4\n",
    "from datetime import timedelta, datetime\n",
    "import numpy as np\n",
    "\n",
    "import matplotlib.pyplot as plt\n",
    "\n",
    "import netCDF4"
   ]
  },
  {
   "cell_type": "code",
   "execution_count": 121,
   "metadata": {},
   "outputs": [
    {
     "data": {
      "text/plain": [
       "<class 'netCDF4._netCDF4.Dataset'>\n",
       "root group (NETCDF3_CLASSIC data model, file format NETCDF3):\n",
       "    year: 2019\n",
       "    description: Sea Surface Velocity\n",
       "    version: 2006.0\n",
       "    source: Gary Lagerloef, ESR (lager@esr.org) Fabrice Bonjean (bonjean@esr.org) and Kathleen Dohan (kdohan@esr.org)\n",
       "    contact: Kathleen Dohan (kdohan@esr.org) or John T. Gunn (gunn@esr.org)\n",
       "    company: Earth & Space Research, Seattle, WA\n",
       "    reference1: Bonjean F. and G.S.E. Lagerloef, 2002 ,\"Diagnostic model and analysis of the surface currents in the tropical Pacific ocean\", J. Phys. Oceanogr., 32, 2,938-2,954\n",
       "    date: 08-Mar-2019\n",
       "    note: Longitude extends from 20.5 E to 419.5 E to avoid a break in major ocean basins. Data repeats in overlap region.\n",
       "    dimensions(sizes): latitude(140), longitude(360), time(14), depth(1)\n",
       "    variables(dimensions): float32 \u001b[4mlatitude\u001b[0m(latitude), float32 \u001b[4mlongitude\u001b[0m(longitude), int32 \u001b[4mtime\u001b[0m(time), int32 \u001b[4mdate\u001b[0m(time), float32 \u001b[4mdepth\u001b[0m(depth), int32 \u001b[4mmask\u001b[0m(latitude,longitude), float32 \u001b[4mu\u001b[0m(time,depth,latitude,longitude), float32 \u001b[4mv\u001b[0m(time,depth,latitude,longitude), float32 \u001b[4muf\u001b[0m(time,depth,latitude,longitude), float32 \u001b[4mvf\u001b[0m(time,depth,latitude,longitude)\n",
       "    groups: "
      ]
     },
     "execution_count": 121,
     "metadata": {},
     "output_type": "execute_result"
    }
   ],
   "source": [
    "a = netCDF4.Dataset('../data/world_oscar_vel_5d2019.nc', 'r+')\n",
    "a"
   ]
  },
  {
   "cell_type": "code",
   "execution_count": 65,
   "metadata": {},
   "outputs": [
    {
     "data": {
      "text/plain": [
       "masked_array(data=[ 69.5,  68.5,  67.5,  66.5,  65.5,  64.5,  63.5,  62.5,\n",
       "                    61.5,  60.5,  59.5,  58.5,  57.5,  56.5,  55.5,  54.5,\n",
       "                    53.5,  52.5,  51.5,  50.5,  49.5,  48.5,  47.5,  46.5,\n",
       "                    45.5,  44.5,  43.5,  42.5,  41.5,  40.5,  39.5,  38.5,\n",
       "                    37.5,  36.5,  35.5,  34.5,  33.5,  32.5,  31.5,  30.5,\n",
       "                    29.5,  28.5,  27.5,  26.5,  25.5,  24.5,  23.5,  22.5,\n",
       "                    21.5,  20.5,  19.5,  18.5,  17.5,  16.5,  15.5,  14.5,\n",
       "                    13.5,  12.5,  11.5,  10.5,   9.5,   8.5,   7.5,   6.5,\n",
       "                     5.5,   4.5,   3.5,   2.5,   1.5,   0.5,  -0.5,  -1.5,\n",
       "                    -2.5,  -3.5,  -4.5,  -5.5,  -6.5,  -7.5,  -8.5,  -9.5,\n",
       "                   -10.5, -11.5, -12.5, -13.5, -14.5, -15.5, -16.5, -17.5,\n",
       "                   -18.5, -19.5, -20.5, -21.5, -22.5, -23.5, -24.5, -25.5,\n",
       "                   -26.5, -27.5, -28.5, -29.5, -30.5, -31.5, -32.5, -33.5,\n",
       "                   -34.5, -35.5, -36.5, -37.5, -38.5, -39.5, -40.5, -41.5,\n",
       "                   -42.5, -43.5, -44.5, -45.5, -46.5, -47.5, -48.5, -49.5,\n",
       "                   -50.5, -51.5, -52.5, -53.5, -54.5, -55.5, -56.5, -57.5,\n",
       "                   -58.5, -59.5, -60.5, -61.5, -62.5, -63.5, -64.5, -65.5,\n",
       "                   -66.5, -67.5, -68.5, -69.5],\n",
       "             mask=False,\n",
       "       fill_value=1e+20,\n",
       "            dtype=float32)"
      ]
     },
     "execution_count": 65,
     "metadata": {},
     "output_type": "execute_result"
    }
   ],
   "source": [
    "b = a.variables['longitude']\n",
    "a.variables['latitude'][:]"
   ]
  },
  {
   "cell_type": "code",
   "execution_count": 46,
   "metadata": {},
   "outputs": [],
   "source": [
    "# a.variables['longitude'][:]-=50"
   ]
  },
  {
   "cell_type": "code",
   "execution_count": 66,
   "metadata": {
    "scrolled": true
   },
   "outputs": [
    {
     "data": {
      "text/plain": [
       "masked_array(data=[-29.5, -28.5, -27.5, -26.5, -25.5, -24.5, -23.5, -22.5,\n",
       "                   -21.5, -20.5, -19.5, -18.5, -17.5, -16.5, -15.5, -14.5,\n",
       "                   -13.5, -12.5, -11.5, -10.5,  -9.5,  -8.5,  -7.5,  -6.5,\n",
       "                    -5.5,  -4.5,  -3.5,  -2.5,  -1.5,  -0.5,   0.5,   1.5,\n",
       "                     2.5,   3.5,   4.5,   5.5,   6.5,   7.5,   8.5,   9.5,\n",
       "                    10.5,  11.5,  12.5,  13.5,  14.5,  15.5,  16.5,  17.5,\n",
       "                    18.5,  19.5,  20.5,  21.5,  22.5,  23.5,  24.5,  25.5,\n",
       "                    26.5,  27.5,  28.5,  29.5,  30.5,  31.5,  32.5,  33.5,\n",
       "                    34.5,  35.5,  36.5,  37.5,  38.5,  39.5,  40.5,  41.5,\n",
       "                    42.5,  43.5,  44.5,  45.5,  46.5,  47.5,  48.5,  49.5,\n",
       "                    50.5,  51.5,  52.5,  53.5,  54.5,  55.5,  56.5,  57.5,\n",
       "                    58.5,  59.5,  60.5,  61.5,  62.5,  63.5,  64.5,  65.5,\n",
       "                    66.5,  67.5,  68.5,  69.5,  70.5,  71.5,  72.5,  73.5,\n",
       "                    74.5,  75.5,  76.5,  77.5,  78.5,  79.5,  80.5,  81.5,\n",
       "                    82.5,  83.5,  84.5,  85.5,  86.5,  87.5,  88.5,  89.5,\n",
       "                    90.5,  91.5,  92.5,  93.5,  94.5,  95.5,  96.5,  97.5,\n",
       "                    98.5,  99.5, 100.5, 101.5, 102.5, 103.5, 104.5, 105.5,\n",
       "                   106.5, 107.5, 108.5, 109.5, 110.5, 111.5, 112.5, 113.5,\n",
       "                   114.5, 115.5, 116.5, 117.5, 118.5, 119.5, 120.5, 121.5,\n",
       "                   122.5, 123.5, 124.5, 125.5, 126.5, 127.5, 128.5, 129.5,\n",
       "                   130.5, 131.5, 132.5, 133.5, 134.5, 135.5, 136.5, 137.5,\n",
       "                   138.5, 139.5, 140.5, 141.5, 142.5, 143.5, 144.5, 145.5,\n",
       "                   146.5, 147.5, 148.5, 149.5, 150.5, 151.5, 152.5, 153.5,\n",
       "                   154.5, 155.5, 156.5, 157.5, 158.5, 159.5, 160.5, 161.5,\n",
       "                   162.5, 163.5, 164.5, 165.5, 166.5, 167.5, 168.5, 169.5,\n",
       "                   170.5, 171.5, 172.5, 173.5, 174.5, 175.5, 176.5, 177.5,\n",
       "                   178.5, 179.5, 180.5, 181.5, 182.5, 183.5, 184.5, 185.5,\n",
       "                   186.5, 187.5, 188.5, 189.5, 190.5, 191.5, 192.5, 193.5,\n",
       "                   194.5, 195.5, 196.5, 197.5, 198.5, 199.5, 200.5, 201.5,\n",
       "                   202.5, 203.5, 204.5, 205.5, 206.5, 207.5, 208.5, 209.5,\n",
       "                   210.5, 211.5, 212.5, 213.5, 214.5, 215.5, 216.5, 217.5,\n",
       "                   218.5, 219.5, 220.5, 221.5, 222.5, 223.5, 224.5, 225.5,\n",
       "                   226.5, 227.5, 228.5, 229.5, 230.5, 231.5, 232.5, 233.5,\n",
       "                   234.5, 235.5, 236.5, 237.5, 238.5, 239.5, 240.5, 241.5,\n",
       "                   242.5, 243.5, 244.5, 245.5, 246.5, 247.5, 248.5, 249.5,\n",
       "                   250.5, 251.5, 252.5, 253.5, 254.5, 255.5, 256.5, 257.5,\n",
       "                   258.5, 259.5, 260.5, 261.5, 262.5, 263.5, 264.5, 265.5,\n",
       "                   266.5, 267.5, 268.5, 269.5, 270.5, 271.5, 272.5, 273.5,\n",
       "                   274.5, 275.5, 276.5, 277.5, 278.5, 279.5, 280.5, 281.5,\n",
       "                   282.5, 283.5, 284.5, 285.5, 286.5, 287.5, 288.5, 289.5,\n",
       "                   290.5, 291.5, 292.5, 293.5, 294.5, 295.5, 296.5, 297.5,\n",
       "                   298.5, 299.5, 300.5, 301.5, 302.5, 303.5, 304.5, 305.5,\n",
       "                   306.5, 307.5, 308.5, 309.5, 310.5, 311.5, 312.5, 313.5,\n",
       "                   314.5, 315.5, 316.5, 317.5, 318.5, 319.5, 320.5, 321.5,\n",
       "                   322.5, 323.5, 324.5, 325.5, 326.5, 327.5, 328.5, 329.5],\n",
       "             mask=False,\n",
       "       fill_value=1e+20,\n",
       "            dtype=float32)"
      ]
     },
     "execution_count": 66,
     "metadata": {},
     "output_type": "execute_result"
    }
   ],
   "source": [
    "a.variables['longitude'][:]"
   ]
  },
  {
   "cell_type": "code",
   "execution_count": 112,
   "metadata": {},
   "outputs": [],
   "source": [
    "test = a.variables['u'][:,:,:,:].copy()"
   ]
  },
  {
   "cell_type": "code",
   "execution_count": 113,
   "metadata": {
    "scrolled": true
   },
   "outputs": [
    {
     "data": {
      "text/plain": [
       "masked_array(\n",
       "  data=[[[[--, --, --, ..., --, --, --],\n",
       "          [--, --, --, ..., --, --, --],\n",
       "          [-0.016424085944890976, -0.0338439866900444,\n",
       "           -0.0817095935344696, ..., -0.021664045751094818,\n",
       "           -0.024886053055524826, -0.02615072764456272],\n",
       "          ...,\n",
       "          [--, --, --, ..., --, --, --],\n",
       "          [--, --, --, ..., --, --, --],\n",
       "          [--, --, --, ..., --, --, --]]],\n",
       "\n",
       "\n",
       "        [[[--, --, --, ..., --, --, --],\n",
       "          [--, --, --, ..., --, --, --],\n",
       "          [-0.033811431378126144, -0.055758681148290634,\n",
       "           -0.09316570311784744, ..., -0.027580542489886284,\n",
       "           -0.028127767145633698, -0.0311892107129097],\n",
       "          ...,\n",
       "          [--, --, --, ..., --, --, --],\n",
       "          [--, --, --, ..., --, --, --],\n",
       "          [--, --, --, ..., --, --, --]]],\n",
       "\n",
       "\n",
       "        [[[--, --, --, ..., --, --, --],\n",
       "          [--, --, --, ..., --, --, --],\n",
       "          [-0.054647691547870636, -0.08110763877630234,\n",
       "           -0.11058555543422699, ..., -0.04446495324373245,\n",
       "           -0.0427275113761425, -0.044630587100982666],\n",
       "          ...,\n",
       "          [--, --, --, ..., --, --, --],\n",
       "          [--, --, --, ..., --, --, --],\n",
       "          [--, --, --, ..., --, --, --]]],\n",
       "\n",
       "\n",
       "        ...,\n",
       "\n",
       "\n",
       "        [[[--, --, --, ..., --, --, --],\n",
       "          [--, --, --, ..., --, --, --],\n",
       "          [-0.04020903259515762, -0.041892241686582565,\n",
       "           -0.051071666181087494, ..., -0.05264339596033096,\n",
       "           -0.05272654443979263, -0.04951703920960426],\n",
       "          ...,\n",
       "          [--, --, --, ..., --, --, --],\n",
       "          [--, --, --, ..., --, --, --],\n",
       "          [--, --, --, ..., --, --, --]]],\n",
       "\n",
       "\n",
       "        [[[--, --, --, ..., --, --, --],\n",
       "          [--, --, --, ..., --, --, --],\n",
       "          [-0.03957533836364746, -0.04849191755056381,\n",
       "           -0.0676070898771286, ..., -0.05858318880200386,\n",
       "           -0.0568208172917366, -0.049753256142139435],\n",
       "          ...,\n",
       "          [--, --, --, ..., --, --, --],\n",
       "          [--, --, --, ..., --, --, --],\n",
       "          [--, --, --, ..., --, --, --]]],\n",
       "\n",
       "\n",
       "        [[[--, --, --, ..., --, --, --],\n",
       "          [--, --, --, ..., --, --, --],\n",
       "          [-0.05641946196556091, -0.053668320178985596,\n",
       "           -0.06971222907304764, ..., -0.06750468164682388,\n",
       "           -0.07095887511968613, -0.0710577741265297],\n",
       "          ...,\n",
       "          [--, --, --, ..., --, --, --],\n",
       "          [--, --, --, ..., --, --, --],\n",
       "          [--, --, --, ..., --, --, --]]]],\n",
       "  mask=[[[[ True,  True,  True, ...,  True,  True,  True],\n",
       "          [ True,  True,  True, ...,  True,  True,  True],\n",
       "          [False, False, False, ..., False, False, False],\n",
       "          ...,\n",
       "          [ True,  True,  True, ...,  True,  True,  True],\n",
       "          [ True,  True,  True, ...,  True,  True,  True],\n",
       "          [ True,  True,  True, ...,  True,  True,  True]]],\n",
       "\n",
       "\n",
       "        [[[ True,  True,  True, ...,  True,  True,  True],\n",
       "          [ True,  True,  True, ...,  True,  True,  True],\n",
       "          [False, False, False, ..., False, False, False],\n",
       "          ...,\n",
       "          [ True,  True,  True, ...,  True,  True,  True],\n",
       "          [ True,  True,  True, ...,  True,  True,  True],\n",
       "          [ True,  True,  True, ...,  True,  True,  True]]],\n",
       "\n",
       "\n",
       "        [[[ True,  True,  True, ...,  True,  True,  True],\n",
       "          [ True,  True,  True, ...,  True,  True,  True],\n",
       "          [False, False, False, ..., False, False, False],\n",
       "          ...,\n",
       "          [ True,  True,  True, ...,  True,  True,  True],\n",
       "          [ True,  True,  True, ...,  True,  True,  True],\n",
       "          [ True,  True,  True, ...,  True,  True,  True]]],\n",
       "\n",
       "\n",
       "        ...,\n",
       "\n",
       "\n",
       "        [[[ True,  True,  True, ...,  True,  True,  True],\n",
       "          [ True,  True,  True, ...,  True,  True,  True],\n",
       "          [False, False, False, ..., False, False, False],\n",
       "          ...,\n",
       "          [ True,  True,  True, ...,  True,  True,  True],\n",
       "          [ True,  True,  True, ...,  True,  True,  True],\n",
       "          [ True,  True,  True, ...,  True,  True,  True]]],\n",
       "\n",
       "\n",
       "        [[[ True,  True,  True, ...,  True,  True,  True],\n",
       "          [ True,  True,  True, ...,  True,  True,  True],\n",
       "          [False, False, False, ..., False, False, False],\n",
       "          ...,\n",
       "          [ True,  True,  True, ...,  True,  True,  True],\n",
       "          [ True,  True,  True, ...,  True,  True,  True],\n",
       "          [ True,  True,  True, ...,  True,  True,  True]]],\n",
       "\n",
       "\n",
       "        [[[ True,  True,  True, ...,  True,  True,  True],\n",
       "          [ True,  True,  True, ...,  True,  True,  True],\n",
       "          [False, False, False, ..., False, False, False],\n",
       "          ...,\n",
       "          [ True,  True,  True, ...,  True,  True,  True],\n",
       "          [ True,  True,  True, ...,  True,  True,  True],\n",
       "          [ True,  True,  True, ...,  True,  True,  True]]]],\n",
       "  fill_value=nan,\n",
       "  dtype=float32)"
      ]
     },
     "execution_count": 113,
     "metadata": {},
     "output_type": "execute_result"
    }
   ],
   "source": [
    "np.roll(test, 50, axis=3)"
   ]
  },
  {
   "cell_type": "code",
   "execution_count": 122,
   "metadata": {},
   "outputs": [
    {
     "data": {
      "text/plain": [
       "OrderedDict([('latitude', <class 'netCDF4._netCDF4.Variable'>\n",
       "              float32 latitude(latitude)\n",
       "                  units: degrees-north\n",
       "                  long_name: Latitude\n",
       "              unlimited dimensions: \n",
       "              current shape = (140,)\n",
       "              filling on, default _FillValue of 9.969209968386869e+36 used),\n",
       "             ('longitude', <class 'netCDF4._netCDF4.Variable'>\n",
       "              float32 longitude(longitude)\n",
       "                  units: degrees-east\n",
       "                  long_name: Longitude\n",
       "              unlimited dimensions: \n",
       "              current shape = (360,)\n",
       "              filling on, default _FillValue of 9.969209968386869e+36 used),\n",
       "             ('time', <class 'netCDF4._netCDF4.Variable'>\n",
       "              int32 time(time)\n",
       "                  units: day since 1992-10-05 00:00:00\n",
       "                  long_name: Time\n",
       "              unlimited dimensions: \n",
       "              current shape = (14,)\n",
       "              filling on, default _FillValue of -2147483647 used),\n",
       "             ('date', <class 'netCDF4._netCDF4.Variable'>\n",
       "              int32 date(time)\n",
       "                  long_name: Date in integer format\n",
       "              unlimited dimensions: \n",
       "              current shape = (14,)\n",
       "              filling on, default _FillValue of -2147483647 used),\n",
       "             ('depth', <class 'netCDF4._netCDF4.Variable'>\n",
       "              float32 depth(depth)\n",
       "                  units: meter\n",
       "                  long_name: Depth\n",
       "              unlimited dimensions: \n",
       "              current shape = (1,)\n",
       "              filling on, default _FillValue of 9.969209968386869e+36 used),\n",
       "             ('mask', <class 'netCDF4._netCDF4.Variable'>\n",
       "              int32 mask(latitude, longitude)\n",
       "                  long_name: Mask\n",
       "              unlimited dimensions: \n",
       "              current shape = (140, 360)\n",
       "              filling on, default _FillValue of -2147483647 used),\n",
       "             ('u', <class 'netCDF4._netCDF4.Variable'>\n",
       "              float32 u(time, depth, latitude, longitude)\n",
       "                  units: meter/sec\n",
       "                  long_name: Zonal Velocity\n",
       "                  missing_value: nan\n",
       "              unlimited dimensions: \n",
       "              current shape = (14, 1, 140, 360)\n",
       "              filling on, default _FillValue of 9.969209968386869e+36 used),\n",
       "             ('v', <class 'netCDF4._netCDF4.Variable'>\n",
       "              float32 v(time, depth, latitude, longitude)\n",
       "                  units: meter/sec\n",
       "                  long_name: Meridional Velocity\n",
       "                  missing_value: nan\n",
       "              unlimited dimensions: \n",
       "              current shape = (14, 1, 140, 360)\n",
       "              filling on, default _FillValue of 9.969209968386869e+36 used),\n",
       "             ('uf', <class 'netCDF4._netCDF4.Variable'>\n",
       "              float32 uf(time, depth, latitude, longitude)\n",
       "                  units: meter/sec\n",
       "                  long_name: Filtered Zonal Velocity\n",
       "                  missing_value: nan\n",
       "              unlimited dimensions: \n",
       "              current shape = (14, 1, 140, 360)\n",
       "              filling on, default _FillValue of 9.969209968386869e+36 used),\n",
       "             ('vf', <class 'netCDF4._netCDF4.Variable'>\n",
       "              float32 vf(time, depth, latitude, longitude)\n",
       "                  units: meter/sec\n",
       "                  long_name: Filtered Meridional Velocity\n",
       "                  missing_value: nan\n",
       "              unlimited dimensions: \n",
       "              current shape = (14, 1, 140, 360)\n",
       "              filling on, default _FillValue of 9.969209968386869e+36 used)])"
      ]
     },
     "execution_count": 122,
     "metadata": {},
     "output_type": "execute_result"
    }
   ],
   "source": [
    "a.variables"
   ]
  },
  {
   "cell_type": "code",
   "execution_count": 123,
   "metadata": {},
   "outputs": [],
   "source": [
    "# a.variables['uf'][:] = np.roll(a.variables['uf'], 50, axis=3)\n",
    "# a.variables['vf'][:] = np.roll(a.variables['vf'], 50, axis=3)\n",
    "# a.variables['mask'][:] = np.roll(a.variables['mask'], 50, axis=1)"
   ]
  },
  {
   "cell_type": "code",
   "execution_count": 118,
   "metadata": {},
   "outputs": [],
   "source": [
    "# a.variables['u'][:] = np.roll(a.variables['u'], 50, axis=3)\n",
    "# a.variables['v'][:] = np.roll(a.variables['v'], 50, axis=3)"
   ]
  },
  {
   "cell_type": "code",
   "execution_count": 124,
   "metadata": {},
   "outputs": [],
   "source": [
    "a.close()\n",
    "# a.variables[''][:]"
   ]
  },
  {
   "cell_type": "code",
   "execution_count": 126,
   "metadata": {},
   "outputs": [
    {
     "data": {
      "text/plain": [
       "<class 'netCDF4._netCDF4.Dataset'>\n",
       "root group (NETCDF3_CLASSIC data model, file format NETCDF3):\n",
       "    year: 2018\n",
       "    description: Sea Surface Velocity\n",
       "    version: 2006.0\n",
       "    source: Gary Lagerloef, ESR (lager@esr.org) Fabrice Bonjean (bonjean@esr.org) and Kathleen Dohan (kdohan@esr.org)\n",
       "    contact: Kathleen Dohan (kdohan@esr.org) or John T. Gunn (gunn@esr.org)\n",
       "    company: Earth & Space Research, Seattle, WA\n",
       "    reference1: Bonjean F. and G.S.E. Lagerloef, 2002 ,\"Diagnostic model and analysis of the surface currents in the tropical Pacific ocean\", J. Phys. Oceanogr., 32, 2,938-2,954\n",
       "    date: 08-Mar-2019\n",
       "    note: Longitude extends from 20.5 E to 419.5 E to avoid a break in major ocean basins. Data repeats in overlap region.\n",
       "    dimensions(sizes): latitude(140), longitude(360), time(72), depth(1)\n",
       "    variables(dimensions): float32 \u001b[4mlatitude\u001b[0m(latitude), float32 \u001b[4mlongitude\u001b[0m(longitude), int32 \u001b[4mtime\u001b[0m(time), int32 \u001b[4mdate\u001b[0m(time), float32 \u001b[4mdepth\u001b[0m(depth), int32 \u001b[4mmask\u001b[0m(latitude,longitude), float32 \u001b[4mu\u001b[0m(time,depth,latitude,longitude), float32 \u001b[4mv\u001b[0m(time,depth,latitude,longitude), float32 \u001b[4muf\u001b[0m(time,depth,latitude,longitude), float32 \u001b[4mvf\u001b[0m(time,depth,latitude,longitude)\n",
       "    groups: "
      ]
     },
     "execution_count": 126,
     "metadata": {},
     "output_type": "execute_result"
    }
   ],
   "source": [
    "# Cleaning 2018 file\n",
    "a = netCDF4.Dataset('../data/world_oscar_vel_5d2018.nc', 'r+')\n",
    "a"
   ]
  },
  {
   "cell_type": "code",
   "execution_count": 127,
   "metadata": {},
   "outputs": [],
   "source": [
    "a.variables['longitude'][:]-=50\n",
    "a.variables['uf'][:] = np.roll(a.variables['uf'], 50, axis=3)\n",
    "a.variables['vf'][:] = np.roll(a.variables['vf'], 50, axis=3)\n",
    "a.variables['mask'][:] = np.roll(a.variables['mask'], 50, axis=1)\n",
    "a.variables['u'][:] = np.roll(a.variables['u'], 50, axis=3)\n",
    "a.variables['v'][:] = np.roll(a.variables['v'], 50, axis=3)"
   ]
  },
  {
   "cell_type": "code",
   "execution_count": 128,
   "metadata": {},
   "outputs": [],
   "source": [
    "a.close()"
   ]
  },
  {
   "cell_type": "code",
   "execution_count": 23,
   "metadata": {},
   "outputs": [
    {
     "name": "stderr",
     "output_type": "stream",
     "text": [
      "WARNING: Flipping lat data from North-South to South-North\n",
      "WARNING: Casting depth data to np.float32\n"
     ]
    }
   ],
   "source": [
    "filenames = {\n",
    "    'U': \"../data/world_oscar_vel_5d2019.nc\",\n",
    "    'V': \"../data/world_oscar_vel_5d2019.nc\"\n",
    "}\n",
    "\n",
    "variables = {\n",
    "    'U': 'uf',\n",
    "    'V': 'vf'\n",
    "}\n",
    "\n",
    "dimensions = {\n",
    "    'lat': 'latitude',\n",
    "    'lon': 'longitude',\n",
    "    'time': 'time'\n",
    "}\n",
    "\n",
    "fieldset = FieldSet.from_netcdf(filenames, variables, dimensions, allow_time_extrapolation=True)"
   ]
  },
  {
   "cell_type": "code",
   "execution_count": 50,
   "metadata": {},
   "outputs": [],
   "source": [
    "coordinates={\n",
    "    'St Tropez': [43.275440, 6.641068],\n",
    "    'Barcelona': [41.374892, 2.195182],\n",
    "    'Napoli': [40.828038, 14.235819],\n",
    "    'Beirut': [33.917980, 35.508003],\n",
    "    'Tripoli': [32.918584, 13.161539]\n",
    "}"
   ]
  },
  {
   "cell_type": "code",
   "execution_count": 51,
   "metadata": {},
   "outputs": [],
   "source": [
    "import pickle\n",
    "pickle.dump( coordinates, open( \"../data/coordinates_cities.p\", \"wb\" ) )"
   ]
  },
  {
   "cell_type": "code",
   "execution_count": 19,
   "metadata": {},
   "outputs": [],
   "source": [
    "a = netCDF4.Dataset('../data/world_oscar_vel_5d2018.nc', 'r')"
   ]
  },
  {
   "cell_type": "code",
   "execution_count": 20,
   "metadata": {},
   "outputs": [
    {
     "data": {
      "text/plain": [
       "(72, 1, 140, 360)"
      ]
     },
     "execution_count": 20,
     "metadata": {},
     "output_type": "execute_result"
    }
   ],
   "source": [
    "a.variables['vf'][:].shape"
   ]
  },
  {
   "cell_type": "code",
   "execution_count": 21,
   "metadata": {},
   "outputs": [],
   "source": [
    "# Single date measurement\n",
    "a = netCDF4.Dataset('../data/world_oscar_vel_5d2018_singledate.nc', 'r+')"
   ]
  },
  {
   "cell_type": "code",
   "execution_count": 22,
   "metadata": {},
   "outputs": [],
   "source": [
    "a.variables['time'][:] = a.variables['time'][0]\n",
    "a.variables['uf'] = a.variables['uf'][0,:,:,:]\n",
    "a.variables['vf'] = a.variables['vf'][0,:,:,:]\n",
    "a.variables['u'] = a.variables['u'][0,:,:,:]\n",
    "a.variables['v'] = a.variables['v'][0,:,:,:]\n",
    "a.variables['date'][:] = a.variables['date'][0]"
   ]
  },
  {
   "cell_type": "code",
   "execution_count": 23,
   "metadata": {},
   "outputs": [],
   "source": [
    "a.close()"
   ]
  },
  {
   "cell_type": "code",
   "execution_count": 32,
   "metadata": {},
   "outputs": [
    {
     "data": {
      "text/plain": [
       "<class 'netCDF4._netCDF4.Dataset'>\n",
       "root group (NETCDF3_CLASSIC data model, file format NETCDF3):\n",
       "    bulletin_type: forecast\n",
       "    institution: Istituto Nazionale di Geofisica e Vulcanologia - Bologna, Italy\n",
       "    source: MFS EAS3\n",
       "    contact: servicedesk.cmems@mercator-ocean.eu\n",
       "    references: Please check in CMEMS catalogue the INFO section for product MEDSEA_ANALYSIS_FORECAST_PHY_006_013 - http://marine.copernicus.eu\n",
       "    comment: Please check in CMEMS catalogue the INFO section for product MEDSEA_ANALYSIS_FORECAST_PHY_006_013 - http://marine.copernicus.eu\n",
       "    Conventions: CF-1.0\n",
       "    bulletin_date: 2019-03-08\n",
       "    FROM_ORIGINAL_FILE__field_type: daily_mean_centered_at_time_field\n",
       "    title: Horizontal Velocity (3D) - Daily Mean \n",
       "    _CoordSysBuilder: ucar.nc2.dataset.conv.CF1Convention\n",
       "    history: Data extracted from dataset http://localhost:8080/thredds/dodsC/sv04-med-ingv-cur-an-fc-d\n",
       "    dimensions(sizes): time(1), depth(1), lat(380), lon(1287)\n",
       "    variables(dimensions): float32 \u001b[4mdepth\u001b[0m(depth), float32 \u001b[4mvo\u001b[0m(time,depth,lat,lon), float32 \u001b[4mlon\u001b[0m(lon), float32 \u001b[4muo\u001b[0m(time,depth,lat,lon), float64 \u001b[4mtime\u001b[0m(time), float32 \u001b[4mlat\u001b[0m(lat)\n",
       "    groups: "
      ]
     },
     "execution_count": 32,
     "metadata": {},
     "output_type": "execute_result"
    }
   ],
   "source": [
    "###########################\n",
    "# Generate flows and walls\n",
    "###########################\n",
    "\n",
    "a = netCDF4.Dataset('../data/sv04-med-ingv-cur-an-fc-d_1552135429007.nc')\n",
    "a"
   ]
  },
  {
   "cell_type": "code",
   "execution_count": 33,
   "metadata": {},
   "outputs": [
    {
     "data": {
      "text/plain": [
       "OrderedDict([('depth', <class 'netCDF4._netCDF4.Variable'>\n",
       "              float32 depth(depth)\n",
       "                  units: m\n",
       "                  nav_model: Grid T\n",
       "                  positive: down\n",
       "                  standard_name: depth\n",
       "                  long_name: depth\n",
       "                  axis: Z\n",
       "                  valid_min: 1.0182366\n",
       "                  valid_max: 1.0182366\n",
       "                  _ChunkSizes: 141\n",
       "                  _CoordinateAxisType: Height\n",
       "                  _CoordinateZisPositive: down\n",
       "              unlimited dimensions: \n",
       "              current shape = (1,)\n",
       "              filling on, default _FillValue of 9.969209968386869e+36 used),\n",
       "             ('vo', <class 'netCDF4._netCDF4.Variable'>\n",
       "              float32 vo(time, depth, lat, lon)\n",
       "                  _FillValue: 1e+20\n",
       "                  missing_value: 1e+20\n",
       "                  units: m/s\n",
       "                  coordinates: time depth lat lon\n",
       "                  standard_name: northward_sea_water_velocity\n",
       "                  long_name: meridional current\n",
       "                  _ChunkSizes: [  1  47 127 429]\n",
       "              unlimited dimensions: \n",
       "              current shape = (1, 1, 380, 1287)\n",
       "              filling on),\n",
       "             ('lon', <class 'netCDF4._netCDF4.Variable'>\n",
       "              float32 lon(lon)\n",
       "                  valid_min: -17.291666\n",
       "                  valid_max: 36.291668\n",
       "                  units: degrees_east\n",
       "                  nav_model: Grid T\n",
       "                  standard_name: longitude\n",
       "                  long_name: longitude\n",
       "                  axis: X\n",
       "                  _ChunkSizes: 1287\n",
       "                  _CoordinateAxisType: Lon\n",
       "              unlimited dimensions: \n",
       "              current shape = (1287,)\n",
       "              filling on, default _FillValue of 9.969209968386869e+36 used),\n",
       "             ('uo', <class 'netCDF4._netCDF4.Variable'>\n",
       "              float32 uo(time, depth, lat, lon)\n",
       "                  _FillValue: 1e+20\n",
       "                  missing_value: 1e+20\n",
       "                  units: m/s\n",
       "                  coordinates: time depth lat lon\n",
       "                  standard_name: eastward_sea_water_velocity\n",
       "                  long_name: zonal current\n",
       "                  _ChunkSizes: [  1  29  76 258]\n",
       "              unlimited dimensions: \n",
       "              current shape = (1, 1, 380, 1287)\n",
       "              filling on),\n",
       "             ('time', <class 'netCDF4._netCDF4.Variable'>\n",
       "              float64 time(time)\n",
       "                  units: seconds since 1970-01-01 00:00:00\n",
       "                  calendar: standard\n",
       "                  long_name: time\n",
       "                  standard_name: time\n",
       "                  axis: T\n",
       "                  _ChunkSizes: 1\n",
       "                  _CoordinateAxisType: Time\n",
       "                  valid_min: 1514764800.0\n",
       "                  valid_max: 1514764800.0\n",
       "              unlimited dimensions: \n",
       "              current shape = (1,)\n",
       "              filling on, default _FillValue of 9.969209968386869e+36 used),\n",
       "             ('lat', <class 'netCDF4._netCDF4.Variable'>\n",
       "              float32 lat(lat)\n",
       "                  valid_min: 30.1875\n",
       "                  valid_max: 45.979168\n",
       "                  units: degrees_north\n",
       "                  nav_model: Grid T\n",
       "                  standard_name: latitude\n",
       "                  long_name: latitude\n",
       "                  axis: Y\n",
       "                  _ChunkSizes: 380\n",
       "                  _CoordinateAxisType: Lat\n",
       "              unlimited dimensions: \n",
       "              current shape = (380,)\n",
       "              filling on, default _FillValue of 9.969209968386869e+36 used)])"
      ]
     },
     "execution_count": 33,
     "metadata": {},
     "output_type": "execute_result"
    }
   ],
   "source": [
    "a.variables"
   ]
  },
  {
   "cell_type": "code",
   "execution_count": null,
   "metadata": {},
   "outputs": [],
   "source": [
    "# Need to take mask area where uo and vo are 0\n",
    "mask =. np.logical_and()"
   ]
  },
  {
   "cell_type": "code",
   "execution_count": 36,
   "metadata": {},
   "outputs": [],
   "source": [
    "m = a.variables['uo'][:].mask"
   ]
  },
  {
   "cell_type": "code",
   "execution_count": 46,
   "metadata": {},
   "outputs": [
    {
     "data": {
      "text/plain": [
       "<matplotlib.image.AxesImage at 0x7f6a84055358>"
      ]
     },
     "execution_count": 46,
     "metadata": {},
     "output_type": "execute_result"
    },
    {
     "data": {
      "image/png": "[encoded data removed]",
      "text/plain": [
       "<Figure size 432x288 with 1 Axes>"
      ]
     },
     "metadata": {
      "needs_background": "light"
     },
     "output_type": "display_data"
    }
   ],
   "source": [
    "plt.imshow(m[0,0,::-1,:])"
   ]
  },
  {
   "cell_type": "code",
   "execution_count": 52,
   "metadata": {},
   "outputs": [],
   "source": [
    "# Get the 0th coordinate for the mask\n",
    "import numpy as np\n",
    "\n",
    "# We want to interpolate at every 0.1 lat and lon, starting from -5-30 lon and 30-47 lat\n",
    "# europe = {'N': 47, 'S': 30, 'E':30, 'W':-5}\n",
    "xx_lat = np.arange(30, 47, 0.1)\n",
    "xx_lon = np.arange(-5, 30, 0.1)\n",
    "\n",
    "new_mask = []\n",
    "for mask_line in m[0,0,::-1,:]:\n",
    "    new_mask.append(np.interp(xx_lon, a.variables['lon'][:].data, mask_line))\n",
    "    \n",
    "new_mask = (np.asarray(new_mask)>0.5).astype(int)\n",
    "\n",
    "new_new_mask = []\n",
    "for mask_line in new_mask.T:\n",
    "    new_new_mask.append(np.interp(xx_lat, a.variables['lat'][:].data, mask_line))"
   ]
  },
  {
   "cell_type": "code",
   "execution_count": 53,
   "metadata": {
    "scrolled": true
   },
   "outputs": [
    {
     "data": {
      "text/plain": [
       "<matplotlib.image.AxesImage at 0x7f6a805c4ac8>"
      ]
     },
     "execution_count": 53,
     "metadata": {},
     "output_type": "execute_result"
    },
    {
     "data": {
      "image/png": "[encoded data removed]",
      "text/plain": [
       "<Figure size 432x288 with 1 Axes>"
      ]
     },
     "metadata": {
      "needs_background": "light"
     },
     "output_type": "display_data"
    }
   ],
   "source": [
    "np.asarray(new_new_mask).T>0.5\n",
    "plt.imshow(np.asarray(new_new_mask).T>0.5)"
   ]
  },
  {
   "cell_type": "code",
   "execution_count": 54,
   "metadata": {},
   "outputs": [],
   "source": [
    "np.save('../output/europe_mask.npy', np.asarray(new_new_mask).T>0.5)"
   ]
  },
  {
   "cell_type": "code",
   "execution_count": 56,
   "metadata": {},
   "outputs": [],
   "source": [
    "x = np.asarray(new_new_mask).T>0.5\n",
    "x[0,:]= True\n",
    "x[-1,:]= True\n",
    "x[:,0]= True\n",
    "x[:,-1]= True"
   ]
  },
  {
   "cell_type": "code",
   "execution_count": 64,
   "metadata": {},
   "outputs": [
    {
     "data": {
      "text/plain": [
       "<matplotlib.image.AxesImage at 0x7f6a80454b38>"
      ]
     },
     "execution_count": 64,
     "metadata": {},
     "output_type": "execute_result"
    },
    {
     "data": {
      "image/png": "[encoded data removed]",
      "text/plain": [
       "<Figure size 432x288 with 1 Axes>"
      ]
     },
     "metadata": {
      "needs_background": "light"
     },
     "output_type": "display_data"
    }
   ],
   "source": [
    "plt.imshow(x[::-1,:])"
   ]
  },
  {
   "cell_type": "code",
   "execution_count": 65,
   "metadata": {},
   "outputs": [],
   "source": [
    "np.save('../output/europe_mask.npy', x[::-1,:])"
   ]
  },
  {
   "cell_type": "code",
   "execution_count": null,
   "metadata": {},
   "outputs": [],
   "source": []
  },
  {
   "cell_type": "code",
   "execution_count": 100,
   "metadata": {},
   "outputs": [],
   "source": [
    "# Similarly, generate the velocity arrays\n",
    "a.variables['vo']\n",
    "def interp_var(var, mask, lat=a.variables['lat'][:].data, lon=a.variables['lon'][:].data):\n",
    "    xx_lat = np.arange(30, 47, 0.1)\n",
    "    xx_lon = np.arange(-5, 30, 0.1)\n",
    "    var_c = var.copy()\n",
    "    var_c[mask]=0\n",
    "    new_var = []\n",
    "    for v in var_c:\n",
    "        new_var.append(np.interp(xx_lon, lon, v))\n",
    "\n",
    "    new_new_var = []\n",
    "    for v in np.array(new_var).T:\n",
    "        new_new_var.append(np.interp(xx_lat, lat, v))\n",
    "    return np.array(new_new_var).T"
   ]
  },
  {
   "cell_type": "code",
   "execution_count": 101,
   "metadata": {},
   "outputs": [],
   "source": [
    "c=interp_var(a.variables['vo'][0,0,:,:], a.variables['vo'][0,0,:,:].mask)"
   ]
  },
  {
   "cell_type": "code",
   "execution_count": 103,
   "metadata": {},
   "outputs": [],
   "source": [
    "np.save('../output/vo.npy', c)"
   ]
  },
  {
   "cell_type": "code",
   "execution_count": 104,
   "metadata": {},
   "outputs": [],
   "source": [
    "c=interp_var(a.variables['uo'][0,0,:,:], a.variables['uo'][0,0,:,:].mask)\n",
    "np.save('../output/uo.npy', c)"
   ]
  },
  {
   "cell_type": "code",
   "execution_count": 67,
   "metadata": {},
   "outputs": [
    {
     "data": {
      "text/plain": [
       "<matplotlib.image.AxesImage at 0x7f6a803da278>"
      ]
     },
     "execution_count": 67,
     "metadata": {},
     "output_type": "execute_result"
    },
    {
     "data": {
      "image/png": "[encoded data removed]",
      "text/plain": [
       "<Figure size 432x288 with 1 Axes>"
      ]
     },
     "metadata": {
      "needs_background": "light"
     },
     "output_type": "display_data"
    }
   ],
   "source": [
    "plt.imshow(a.variables['vo'][0,0,:,:])"
   ]
  },
  {
   "cell_type": "code",
   "execution_count": null,
   "metadata": {},
   "outputs": [],
   "source": []
  }
 ],
 "metadata": {
  "kernelspec": {
   "display_name": "Python [conda env:py3_parcels]",
   "language": "python",
   "name": "conda-env-py3_parcels-py"
  },
  "language_info": {
   "codemirror_mode": {
    "name": "ipython",
    "version": 3
   },
   "file_extension": ".py",
   "mimetype": "text/x-python",
   "name": "python",
   "nbconvert_exporter": "python",
   "pygments_lexer": "ipython3",
   "version": "3.7.1"
  }
 },
 "nbformat": 4,
 "nbformat_minor": 2
}
